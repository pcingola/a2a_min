{
 "cells": [
  {
   "cell_type": "markdown",
   "id": "981813f9",
   "metadata": {},
   "source": [
    "# A2A Client example"
   ]
  },
  {
   "cell_type": "markdown",
   "id": "c8186417",
   "metadata": {},
   "source": [
    "### Initialize"
   ]
  },
  {
   "cell_type": "code",
   "execution_count": 1,
   "id": "b8de57ab",
   "metadata": {},
   "outputs": [],
   "source": [
    "from uuid import uuid4\n",
    "\n",
    "from a2a_min.client.card_resolver import A2ACardResolver\n",
    "from a2a_min.client.client import A2AClient"
   ]
  },
  {
   "cell_type": "code",
   "execution_count": 2,
   "id": "68242ede",
   "metadata": {},
   "outputs": [],
   "source": [
    "A2A_SERVER_URL = \"http://localhost:10000\""
   ]
  },
  {
   "cell_type": "markdown",
   "id": "8a66a14e",
   "metadata": {},
   "source": [
    "### Get A2A server's card"
   ]
  },
  {
   "cell_type": "code",
   "execution_count": 3,
   "id": "9087a055",
   "metadata": {},
   "outputs": [
    {
     "name": "stdout",
     "output_type": "stream",
     "text": [
      "{\n",
      "  \"name\": \"Dummy Agent\",\n",
      "  \"description\": \"Pretneds to be a usefull agent...\",\n",
      "  \"url\": \"http://localhost:10000/\",\n",
      "  \"version\": \"1.0.0\",\n",
      "  \"capabilities\": {\n",
      "    \"streaming\": true,\n",
      "    \"pushNotifications\": true,\n",
      "    \"stateTransitionHistory\": false\n",
      "  },\n",
      "  \"defaultInputModes\": [\n",
      "    \"text\"\n",
      "  ],\n",
      "  \"defaultOutputModes\": [\n",
      "    \"text\"\n",
      "  ],\n",
      "  \"skills\": [\n",
      "    {\n",
      "      \"id\": \"dummy_agent\",\n",
      "      \"name\": \"Dummy Agent\",\n",
      "      \"description\": \"Pretneds to be a usefull agent...\",\n",
      "      \"tags\": [\n",
      "        \"dummy\",\n",
      "        \"fake\"\n",
      "      ],\n",
      "      \"examples\": [\n",
      "        \"Are you a real agent?\",\n",
      "        \"What is the meaning of life?\"\n",
      "      ]\n",
      "    }\n",
      "  ]\n",
      "}\n"
     ]
    }
   ],
   "source": [
    "card_resolver = A2ACardResolver(A2A_SERVER_URL)\n",
    "card = card_resolver.get_agent_card()\n",
    "\n",
    "print(card.model_dump_json(exclude_none=True, indent=2))"
   ]
  },
  {
   "cell_type": "markdown",
   "id": "7baedb1c",
   "metadata": {},
   "source": [
    "### Create an A2A client"
   ]
  },
  {
   "cell_type": "code",
   "execution_count": 4,
   "id": "36b7afca",
   "metadata": {},
   "outputs": [],
   "source": [
    "client = A2AClient(agent_card=card)"
   ]
  },
  {
   "cell_type": "code",
   "execution_count": 5,
   "id": "f9923154",
   "metadata": {},
   "outputs": [],
   "source": [
    "def to_json(data):\n",
    "    if hasattr(data, \"model_dump_json\"):\n",
    "        return data.model_dump_json(indent=2, exclude_none=True)\n",
    "    return data.json(indent=2, exclude_none=True)"
   ]
  },
  {
   "cell_type": "code",
   "execution_count": 8,
   "id": "d87825d0",
   "metadata": {},
   "outputs": [],
   "source": [
    "from a2a_min.types import Message, Part, TaskSendParams, TaskState, TextPart\n",
    "\n",
    "\n",
    "async def completeTask(a2a_client: A2AClient, prompt: str, taskId, sessionId):\n",
    "    \"\"\" Run a task with the given prompt \"\"\"\n",
    "    if prompt == \":q\" or prompt == \"quit\":\n",
    "        return False\n",
    "\n",
    "    message = Message(role=\"user\", parts=[TextPart(text=prompt)])\n",
    "    tasK_send_params = TaskSendParams(id=taskId, sessionId=sessionId, acceptedOutputModes=[\"text\"], message=message)\n",
    "\n",
    "    taskResult = await a2a_client.send_task(tasK_send_params)\n",
    "    print(f\"\\n{to_json(taskResult)}\")\n",
    "\n",
    "    ## if the result is that more input is required, loop again.\n",
    "    state = TaskState(taskResult.result.status.state)\n",
    "    if state.name == TaskState.INPUT_REQUIRED.name:\n",
    "        return await completeTask(a2a_client, prompt, taskId, sessionId)\n",
    "    else:\n",
    "        return False    # We are done with this task.\n"
   ]
  },
  {
   "cell_type": "code",
   "execution_count": 9,
   "id": "e6ae8bea",
   "metadata": {},
   "outputs": [
    {
     "name": "stdout",
     "output_type": "stream",
     "text": [
      "=========  starting a new task ======== \n",
      "\n",
      "{\n",
      "  \"jsonrpc\": \"2.0\",\n",
      "  \"id\": \"a1109f5ba6f147ee83b9cc1946549894\",\n",
      "  \"result\": {\n",
      "    \"id\": \"20196ee5ecc0483c8a08a2df36a8efe6\",\n",
      "    \"sessionId\": \"3ad9a6b746f94fd1acb55f2be9e6ed91\",\n",
      "    \"status\": {\n",
      "      \"state\": \"completed\",\n",
      "      \"timestamp\": \"2025-04-14T14:27:10.979711\"\n",
      "    },\n",
      "    \"artifacts\": [\n",
      "      {\n",
      "        \"parts\": [\n",
      "          {\n",
      "            \"type\": \"text\",\n",
      "            \"text\": \"We are unable to process your request at the moment. Please try again.\"\n",
      "          }\n",
      "        ],\n",
      "        \"index\": 0\n",
      "      }\n",
      "    ],\n",
      "    \"history\": []\n",
      "  }\n",
      "}\n"
     ]
    }
   ],
   "source": [
    "prompt = \"What do you want to send to the agent? (:q or quit to exit)\"\n",
    "\n",
    "continue_loop = True\n",
    "sessionId = uuid4().hex\n",
    "while continue_loop:\n",
    "    taskId = uuid4().hex\n",
    "    print(\"=========  starting a new task ======== \")\n",
    "    continue_loop = await completeTask(client, prompt, taskId, sessionId)"
   ]
  },
  {
   "cell_type": "code",
   "execution_count": null,
   "id": "0d3e3ad8",
   "metadata": {},
   "outputs": [],
   "source": []
  }
 ],
 "metadata": {
  "kernelspec": {
   "display_name": ".venv",
   "language": "python",
   "name": "python3"
  },
  "language_info": {
   "codemirror_mode": {
    "name": "ipython",
    "version": 3
   },
   "file_extension": ".py",
   "mimetype": "text/x-python",
   "name": "python",
   "nbconvert_exporter": "python",
   "pygments_lexer": "ipython3",
   "version": "3.12.2"
  }
 },
 "nbformat": 4,
 "nbformat_minor": 5
}
